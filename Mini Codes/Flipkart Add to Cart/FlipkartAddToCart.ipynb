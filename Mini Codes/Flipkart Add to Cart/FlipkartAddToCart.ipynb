{
 "cells": [
  {
   "cell_type": "code",
   "execution_count": 1,
   "metadata": {},
   "outputs": [],
   "source": [
    "from selenium import webdriver\n",
    "driver=webdriver.Chrome()\n",
    "\n",
    "#Copy the link of the product in below link variable\n",
    "\n",
    "link=\"https://www.flipkart.com/redmi-note-7-pro-neptune-blue-64-gb/p/itmfegkx8nbcze6t?pid=MOBFDXZ376XRTZXH\"\n",
    "driver.get(link)\n",
    "\n",
    "#Put in your login details now and login\n"
   ]
  },
  {
   "cell_type": "code",
   "execution_count": 2,
   "metadata": {},
   "outputs": [
    {
     "name": "stdout",
     "output_type": "stream",
     "text": [
      "Product is added to the cart\n"
     ]
    }
   ],
   "source": [
    "result=None\n",
    "while result is None:\n",
    "    try:\n",
    "        addToCartButton = driver.find_element_by_class_name(\"_3oJBMI\")\n",
    "        addToCartButton.click()\n",
    "        result=\"Product is added to the cart\"\n",
    "        print(result)\n",
    "    except:\n",
    "        driver.refresh()\n",
    "        \n",
    "#You will get whatever you want in the flash sale now , Enjoy!! Star my Github repo if you find it useful.\n",
    "    \n",
    "    "
   ]
  },
  {
   "cell_type": "code",
   "execution_count": null,
   "metadata": {},
   "outputs": [],
   "source": []
  }
 ],
 "metadata": {
  "kernelspec": {
   "display_name": "Python 3",
   "language": "python",
   "name": "python3"
  },
  "language_info": {
   "codemirror_mode": {
    "name": "ipython",
    "version": 3
   },
   "file_extension": ".py",
   "mimetype": "text/x-python",
   "name": "python",
   "nbconvert_exporter": "python",
   "pygments_lexer": "ipython3",
   "version": "3.7.4"
  }
 },
 "nbformat": 4,
 "nbformat_minor": 2
}
