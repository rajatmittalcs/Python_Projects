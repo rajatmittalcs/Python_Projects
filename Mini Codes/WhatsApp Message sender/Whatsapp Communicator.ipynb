{
 "cells": [
  {
   "cell_type": "code",
   "execution_count": null,
   "metadata": {},
   "outputs": [],
   "source": [
    "conda config --channel conda-forge selenium"
   ]
  },
  {
   "cell_type": "code",
   "execution_count": null,
   "metadata": {},
   "outputs": [],
   "source": [
    "conda search selenium"
   ]
  },
  {
   "cell_type": "code",
   "execution_count": null,
   "metadata": {},
   "outputs": [],
   "source": [
    "conda install --channel conda-forge selenium"
   ]
  },
  {
   "cell_type": "code",
   "execution_count": 43,
   "metadata": {},
   "outputs": [
    {
     "name": "stdout",
     "output_type": "stream",
     "text": [
      "Scan QR code and login bro\n"
     ]
    }
   ],
   "source": [
    "from selenium import webdriver\n",
    "driver = webdriver.Chrome()\n",
    "driver.get('https://web.whatsapp.com')\n",
    "print(\"Scan QR code and login bro\")"
   ]
  },
  {
   "cell_type": "code",
   "execution_count": 44,
   "metadata": {},
   "outputs": [
    {
     "name": "stdout",
     "output_type": "stream",
     "text": [
      "Enter name of group/person :  Himalya\n",
      "Enter messagerajat\n"
     ]
    }
   ],
   "source": [
    "name=input(\"Enter name of group/person :  \")\n",
    "messagebody=input(\"Enter message\")"
   ]
  },
  {
   "cell_type": "code",
   "execution_count": 47,
   "metadata": {},
   "outputs": [
    {
     "name": "stdout",
     "output_type": "stream",
     "text": [
      "Message sent bro!! Enjoy!!\n"
     ]
    }
   ],
   "source": [
    "clearer=driver.find_element_by_xpath(\"//span[@title='\"+name+\"']\")\n",
    "clearer.click()\n",
    "message=driver.find_element_by_class_name(\"_13mgZ\")\n",
    "message.click()\n",
    "message.send_keys(messagebody)\n",
    "sendbutton=driver.find_element_by_class_name(\"_3M-N-\")\n",
    "#sendbutton.click()\n",
    "print(\"Code doesn't work on very old chats. Need to add searching algorithm\")"
   ]
  },
  {
   "cell_type": "code",
   "execution_count": 36,
   "metadata": {},
   "outputs": [],
   "source": []
  },
  {
   "cell_type": "code",
   "execution_count": null,
   "metadata": {},
   "outputs": [],
   "source": []
  }
 ],
 "metadata": {
  "kernelspec": {
   "display_name": "Python 3",
   "language": "python",
   "name": "python3"
  },
  "language_info": {
   "codemirror_mode": {
    "name": "ipython",
    "version": 3
   },
   "file_extension": ".py",
   "mimetype": "text/x-python",
   "name": "python",
   "nbconvert_exporter": "python",
   "pygments_lexer": "ipython3",
   "version": "3.7.4"
  }
 },
 "nbformat": 4,
 "nbformat_minor": 2
}
